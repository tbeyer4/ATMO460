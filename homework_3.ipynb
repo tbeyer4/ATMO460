{
 "cells": [
  {
   "cell_type": "code",
   "execution_count": null,
   "id": "37138024",
   "metadata": {},
   "outputs": [],
   "source": [
    "import numpy as np\n",
    "import matplotlib.pyplot as plt\n",
    "\n",
    "#Parameters\n",
    "days = 365\n",
    "latitude_EBF = 32.13 #degree\n",
    "latitude_ENF = 41.49\n",
    "latitude_DBF = 41.49\n",
    "latitude_C4 = 32.13\n",
    "\n",
    "gpp_EBF = 3000 #gC/m2/year\n",
    "gpp_ENF = 1500\n",
    "gpp_DBF = 2500\n",
    "gpp_C4 = 600\n",
    "\n",
    "C_leaf_EBF = 0.4 \n",
    "C_leaf_ENF = 0.39\n",
    "C_leaf_DBF = 0.4\n",
    "C_leaf_C4 = 0.5\n",
    "\n",
    "C_stem_EBF = 0.1\n",
    "C_stem_ENF = 0.22\n",
    "C_stem_DBF = 0.25\n",
    "C_stem_C4 = 0\n",
    "\n",
    "C_fine_EBF = 0.3\n",
    "C_fine_ENF = 0.27\n",
    "C_fine_DBF = 0.25\n",
    "C_fine_C4 = 0.5\n",
    "\n",
    "C_coarse_EBF = 0.2\n",
    "C_coarse_ENF = 0.12\n",
    "C_coarse_DBF = 0.1\n",
    "C_coarse_C4 = 0\n",
    "\n",
    "turnover_leaf_EBF = 2 #year\n",
    "turnover_leaf_ENF = 1.69\n",
    "turnover_leaf_DBF = 1\n",
    "turnover_leaf_C4 = 0.8\n",
    "\n",
    "turnover_stem_EBF = 50 #year\n",
    "turnover_stem_ENF = 71\n",
    "turnover_stem_DBF = 50\n",
    "turnover_stem_C4 = 0\n",
    "\n",
    "turnover_fine_EBF = 2\n",
    "turnover_fine_ENF = 2\n",
    "turnover_fine_DBF = 2\n",
    "turnover_fine_C4 = 1\n",
    "\n",
    "turnover_coarse_EBF = 10\n",
    "turnover_coarse_ENF = 10\n",
    "turnover_coarse_DBF = 10\n",
    "turnover_coarse_C4 = 0\n",
    "\n",
    "base_leaf_EBF = 0.09 #gC/gN/day\n",
    "\n",
    "\n"
   ]
  },
  {
   "cell_type": "code",
   "execution_count": null,
   "id": "0b879a3c",
   "metadata": {},
   "outputs": [],
   "source": [
    "#STEP 1\n",
    "\n",
    "#Ryan's Equation\n",
    "\n",
    "#R_i = k_i * C_i * (C/N)i * Q10^T\n",
    "\n",
    "for i in "
   ]
  }
 ],
 "metadata": {
  "kernelspec": {
   "display_name": "Python 3",
   "language": "python",
   "name": "python3"
  },
  "language_info": {
   "codemirror_mode": {
    "name": "ipython",
    "version": 3
   },
   "file_extension": ".py",
   "mimetype": "text/x-python",
   "name": "python",
   "nbconvert_exporter": "python",
   "pygments_lexer": "ipython3",
   "version": "3.12.1"
  }
 },
 "nbformat": 4,
 "nbformat_minor": 5
}
